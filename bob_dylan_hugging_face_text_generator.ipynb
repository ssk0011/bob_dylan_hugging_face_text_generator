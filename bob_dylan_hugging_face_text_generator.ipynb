{
 "cells": [
  {
   "cell_type": "code",
   "execution_count": null,
   "id": "9f924d54",
   "metadata": {},
   "outputs": [],
   "source": [
    "import pandas as pd\n",
    "from transformers import GPT2LMHeadModel, GPT2Tokenizer, TextDataset, DataCollatorForLanguageModeling\n",
    "from transformers import TrainingArguments, Trainer\n",
    "\n",
    "# Reading the CSV file from Kaggle dataset.\n",
    "df = pd.read_csv('./bob dylan corpus.csv')\n",
    "\n",
    "# Display the first 5 rows.\n",
    "df.head()"
   ]
  },
  {
   "cell_type": "code",
   "execution_count": null,
   "id": "92a78989",
   "metadata": {},
   "outputs": [],
   "source": [
    "# Combine all lyrics into a single string, and remove extra new lines.\n",
    "all_lyrics = \"\\n\".join(df['lyrics'].dropna())\n",
    "all_lyrics = all_lyrics.replace(\"\\n\\n\",\"\\n\")\n",
    "\n",
    "# Check the first 500 characters to confirm output is correct\n",
    "all_lyrics[:500]"
   ]
  },
  {
   "cell_type": "code",
   "execution_count": null,
   "id": "e539c09a",
   "metadata": {},
   "outputs": [],
   "source": [
    "# Write the final cleaned text to a file for next step.\n",
    "with open(\"all_lyrics.txt\", \"w\") as text_file:\n",
    "    text_file.write(all_lyrics)"
   ]
  },
  {
   "cell_type": "code",
   "execution_count": null,
   "id": "b2f1ff21",
   "metadata": {},
   "outputs": [],
   "source": [
    "# Initiate the GPT-2 pre-trained model, plus the tokenizer\n",
    "model_name = \"gpt2-medium\"\n",
    "model = GPT2LMHeadModel.from_pretrained(model_name)\n",
    "tokenizer = GPT2Tokenizer.from_pretrained(model_name)\n",
    "\n",
    "# Tokenize the lyrics and prepare dataset\n",
    "\n",
    "# We'll set up the dataset through the tokenizer, referring to\n",
    "# the file we just wrote as the basis.\n",
    "train_dataset = TextDataset(\n",
    "    tokenizer=tokenizer,\n",
    "    file_path=\"./all_lyrics.txt\",  # Save the all_lyrics string to a file and provide its path here\n",
    "    block_size=128\n",
    ")\n",
    "data_collator = DataCollatorForLanguageModeling(\n",
    "    tokenizer=tokenizer,\n",
    "    mlm=False\n",
    ")\n",
    "\n",
    "# Set up training arguments; these can be modified depending on\n",
    "# available architecture.\n",
    "training_args = TrainingArguments(\n",
    "    output_dir=\"./results\",\n",
    "    overwrite_output_dir=True,\n",
    "    num_train_epochs=1,\n",
    "    per_device_train_batch_size=32,\n",
    "    save_steps=10_000,\n",
    "    save_total_limit=2,\n",
    ")\n",
    "\n",
    "# Initiate the Trainer function and start training!\n",
    "trainer = Trainer(\n",
    "    model=model,\n",
    "    args=training_args,\n",
    "    data_collator=data_collator,\n",
    "    train_dataset=train_dataset,\n",
    ")\n",
    "\n",
    "trainer.train()"
   ]
  },
  {
   "cell_type": "code",
   "execution_count": null,
   "id": "de608adc",
   "metadata": {
    "scrolled": false
   },
   "outputs": [],
   "source": [
    "# Use a Spongebob joke to start writing lyrics\n",
    "input_text = \"In a cosmic sort of way\"\n",
    "input_ids = tokenizer.encode(input_text, return_tensors='pt')\n",
    "\n",
    "output = model.generate(input_ids, max_length=100, num_return_sequences=5, temperature=0.9, do_sample=True)\n",
    "\n",
    "for i, text in enumerate(output):\n",
    "    print(f\"Generated Text {i+1}: {tokenizer.decode(text)}\")\n",
    "    print()"
   ]
  },
  {
   "cell_type": "code",
   "execution_count": null,
   "id": "3d7855bb",
   "metadata": {},
   "outputs": [],
   "source": []
  }
 ],
 "metadata": {
  "kernelspec": {
   "display_name": "Python 3 (ipykernel)",
   "language": "python",
   "name": "python3"
  },
  "language_info": {
   "codemirror_mode": {
    "name": "ipython",
    "version": 3
   },
   "file_extension": ".py",
   "mimetype": "text/x-python",
   "name": "python",
   "nbconvert_exporter": "python",
   "pygments_lexer": "ipython3",
   "version": "3.9.17"
  }
 },
 "nbformat": 4,
 "nbformat_minor": 5
}
